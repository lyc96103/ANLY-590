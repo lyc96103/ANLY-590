{
 "cells": [
  {
   "cell_type": "markdown",
   "metadata": {},
   "source": [
    "## 1"
   ]
  },
  {
   "cell_type": "code",
   "execution_count": 1,
   "metadata": {},
   "outputs": [],
   "source": [
    "import numpy as np\n",
    "import pandas as pd\n",
    "import matplotlib.pyplot as plt\n",
    "\n",
    "from sklearn.preprocessing import scale \n",
    "from sklearn.model_selection import train_test_split\n",
    "from sklearn.linear_model import Ridge, RidgeCV, Lasso, LassoCV\n",
    "\n",
    "%matplotlib inline"
   ]
  },
  {
   "cell_type": "code",
   "execution_count": 2,
   "metadata": {},
   "outputs": [],
   "source": [
    "df = pd.read_csv('Hitters.csv')\n",
    "# select numeric columns\n",
    "df = df.select_dtypes(['number'])"
   ]
  },
  {
   "cell_type": "code",
   "execution_count": 3,
   "metadata": {},
   "outputs": [
    {
     "data": {
      "text/plain": [
       "AtBat      0\n",
       "Hits       0\n",
       "HmRun      0\n",
       "Runs       0\n",
       "RBI        0\n",
       "Walks      0\n",
       "Years      0\n",
       "CAtBat     0\n",
       "CHits      0\n",
       "CHmRun     0\n",
       "CRuns      0\n",
       "CRBI       0\n",
       "CWalks     0\n",
       "PutOuts    0\n",
       "Assists    0\n",
       "Errors     0\n",
       "Salary     0\n",
       "dtype: int64"
      ]
     },
     "execution_count": 3,
     "metadata": {},
     "output_type": "execute_result"
    }
   ],
   "source": [
    "#drop na values\n",
    "df = df.dropna()\n",
    "df.isna().sum()"
   ]
  },
  {
   "cell_type": "code",
   "execution_count": 4,
   "metadata": {},
   "outputs": [],
   "source": [
    "X = df.drop(['Salary'],axis = 1)\n",
    "y = df['Salary']\n",
    "\n",
    "#Split data\n",
    "X_train, X_test, y_train, y_test = train_test_split(X, y, test_size = 0.3)"
   ]
  },
  {
   "cell_type": "markdown",
   "metadata": {},
   "source": [
    "### 1.1 Lasso"
   ]
  },
  {
   "cell_type": "code",
   "execution_count": 5,
   "metadata": {},
   "outputs": [],
   "source": [
    "#set alphas\n",
    "alphas = 10**np.linspace(10,-2,100)*0.5"
   ]
  },
  {
   "cell_type": "code",
   "execution_count": 6,
   "metadata": {},
   "outputs": [],
   "source": [
    "lasso = Lasso(max_iter=10000, normalize=True)\n",
    "coefs = []\n",
    "for alpha in alphas:\n",
    "    lasso.set_params(alpha = alpha)\n",
    "    lasso_model = lasso.fit(scale(X_train), y_train)\n",
    "    coefs.append(lasso.coef_) "
   ]
  },
  {
   "cell_type": "code",
   "execution_count": 7,
   "metadata": {},
   "outputs": [
    {
     "data": {
      "text/plain": [
       "Text(0.5, 1.0, 'Lasso')"
      ]
     },
     "execution_count": 7,
     "metadata": {},
     "output_type": "execute_result"
    },
    {
     "data": {
      "image/png": "[encoded data removed]",
      "text/plain": [
       "<Figure size 576x432 with 1 Axes>"
      ]
     },
     "metadata": {
      "needs_background": "light"
     },
     "output_type": "display_data"
    }
   ],
   "source": [
    "plt.figure(figsize=(8,6))\n",
    "fig = plt.gca()\n",
    "fig.plot(alphas, coefs)\n",
    "fig.set_xscale('log')\n",
    "\n",
    "plt.xlabel('alpha')\n",
    "plt.ylabel('weights')\n",
    "plt.title('Lasso')"
   ]
  },
  {
   "cell_type": "code",
   "execution_count": 8,
   "metadata": {},
   "outputs": [
    {
     "data": {
      "text/plain": [
       "AtBat      0.000000\n",
       "Hits       0.514020\n",
       "HmRun      0.000000\n",
       "Runs       0.081408\n",
       "RBI        0.000000\n",
       "Walks      0.000000\n",
       "Years      0.000000\n",
       "CAtBat     0.000000\n",
       "CHits      0.000000\n",
       "CHmRun     0.000000\n",
       "CRuns      0.305593\n",
       "CRBI       0.000000\n",
       "CWalks     0.000000\n",
       "PutOuts    0.000000\n",
       "Assists    0.000000\n",
       "Errors    -0.000000\n",
       "dtype: float64"
      ]
     },
     "execution_count": 8,
     "metadata": {},
     "output_type": "execute_result"
    }
   ],
   "source": [
    "#We see alpha is around 10^1, thus we check which features are still there when alpha is around 10.\n",
    "lasso2 = Lasso(alpha = 10, max_iter = 10000, normalize = True).fit(X_train,y_train)\n",
    "pd.Series(lasso2.coef_, index=X_train.columns)"
   ]
  },
  {
   "cell_type": "raw",
   "metadata": {},
   "source": [
    "The final three predictors that remain in the model are 'Hits','Runs' and 'CRuns'."
   ]
  },
  {
   "cell_type": "code",
   "execution_count": 9,
   "metadata": {},
   "outputs": [],
   "source": [
    "#10-fold cross-validation to choose the best alpha, then refit model\n",
    "lasso_cv = LassoCV(alphas = None, cv = 10, max_iter = 100000, normalize = True)\n",
    "lasso_cv.fit(X_train, y_train)\n",
    "lasso3 = Lasso(alpha = lasso_cv.alpha_,max_iter = 100000, normalize = True).fit(X_train, y_train)"
   ]
  },
  {
   "cell_type": "code",
   "execution_count": 10,
   "metadata": {},
   "outputs": [
    {
     "name": "stdout",
     "output_type": "stream",
     "text": [
      "The optimal value of the regularization penalty is 1.5956122591324386\n"
     ]
    }
   ],
   "source": [
    "print('The optimal value of the regularization penalty is',lasso_cv.alpha_)"
   ]
  },
  {
   "cell_type": "code",
   "execution_count": 11,
   "metadata": {},
   "outputs": [
    {
     "data": {
      "text/plain": [
       "AtBat     -0.000000\n",
       "Hits       1.548888\n",
       "HmRun      0.000000\n",
       "Runs       0.934219\n",
       "RBI        0.000000\n",
       "Walks      1.013579\n",
       "Years      0.000000\n",
       "CAtBat     0.000000\n",
       "CHits      0.000000\n",
       "CHmRun     0.000000\n",
       "CRuns      0.383827\n",
       "CRBI       0.182524\n",
       "CWalks     0.000000\n",
       "PutOuts    0.179246\n",
       "Assists   -0.000000\n",
       "Errors    -0.000000\n",
       "dtype: float64"
      ]
     },
     "execution_count": 11,
     "metadata": {},
     "output_type": "execute_result"
    }
   ],
   "source": [
    "pd.Series(lasso3.coef_, index = X.columns)"
   ]
  },
  {
   "cell_type": "raw",
   "metadata": {},
   "source": [
    "There are 6 predictors are left in the model."
   ]
  },
  {
   "cell_type": "markdown",
   "metadata": {},
   "source": [
    "### 1.2"
   ]
  },
  {
   "cell_type": "code",
   "execution_count": 12,
   "metadata": {},
   "outputs": [
    {
     "data": {
      "text/plain": [
       "Text(0.5, 1.0, 'Ridge')"
      ]
     },
     "execution_count": 12,
     "metadata": {},
     "output_type": "execute_result"
    },
    {
     "data": {
      "image/png": "[encoded data removed]",
      "text/plain": [
       "<Figure size 576x432 with 1 Axes>"
      ]
     },
     "metadata": {
      "needs_background": "light"
     },
     "output_type": "display_data"
    }
   ],
   "source": [
    "#Coefficient Trajectories\n",
    "ridge = Ridge(max_iter = 100000, normalize = True)\n",
    "coefs = []\n",
    "\n",
    "for a in alphas:\n",
    "    ridge.set_params(alpha = a)\n",
    "    ridge.fit(scale(X_train), y_train)\n",
    "    coefs.append(ridge.coef_)\n",
    "\n",
    "plt.figure(figsize=(8,6))\n",
    "fig = plt.gca()\n",
    "fig.plot(alphas, coefs)\n",
    "fig.set_xscale('log')\n",
    "\n",
    "plt.xlabel('alpha')\n",
    "plt.ylabel('weights')\n",
    "plt.title('Ridge')"
   ]
  },
  {
   "cell_type": "code",
   "execution_count": 14,
   "metadata": {},
   "outputs": [
    {
     "data": {
      "text/plain": [
       "Ridge(alpha=0.7599555414764666, copy_X=True, fit_intercept=True,\n",
       "      max_iter=100000, normalize=True, random_state=None, solver='auto',\n",
       "      tol=0.001)"
      ]
     },
     "execution_count": 14,
     "metadata": {},
     "output_type": "execute_result"
    }
   ],
   "source": [
    "# Cross-Validation\n",
    "ridge_cv = RidgeCV(alphas = alphas, scoring = 'neg_mean_squared_error', normalize = True)\n",
    "ridge_cv.fit(X_train, y_train)\n",
    "\n",
    "ridge.set_params(alpha = ridge_cv.alpha_)\n",
    "ridge.fit(X_train, y_train)"
   ]
  },
  {
   "cell_type": "code",
   "execution_count": 16,
   "metadata": {},
   "outputs": [
    {
     "name": "stdout",
     "output_type": "stream",
     "text": [
      "The optimal value of the regularization penalty is 0.7599555414764666\n"
     ]
    }
   ],
   "source": [
    "print('The optimal value of the regularization penalty is',ridge_cv.alpha_)"
   ]
  },
  {
   "cell_type": "markdown",
   "metadata": {},
   "source": [
    "## 2. Short Answer"
   ]
  },
  {
   "cell_type": "raw",
   "metadata": {},
   "source": [
    "Bias and Variance Tradeoff\n",
    "\n",
    "Bias and variance tradeoff means that, when bias high, then variance low, vice versa. When overfitting occurs, there are low bias and high variance, which means that the model captures too much noise. When underfitting occurs, there are high bias and low variance, which means that the model can't capture the pattern of a dataset. In case to avoid overfitting and underfitting, we need to balance bias and variance."
   ]
  },
  {
   "cell_type": "raw",
   "metadata": {},
   "source": [
    "What role does regularization play in this tradeoff?\n",
    "\n",
    "Regularization help select a midpoint to achieve a balance between bias and variance. It is the process of adding tuning parameter to a model in order to prevent overfitting or underfitting. When overfitting occurs, we need increase regularization tuning parameter. When underfitting occurs, we need decrease regularization tuning parameter."
   ]
  },
  {
   "cell_type": "raw",
   "metadata": {},
   "source": [
    "Make reference to your findings in number (1) to describe models of high/low bias and variance\n",
    "\n",
    "The value of alpha decides the size of penality, that if alpha is 0, the penalty term would be 0, so that the result would be classical least square coefficient. However, if the value of alpha is close to infinity, the coefficient would get close to 0. In problem number (1), since the alpha of value and ridge above are around 1.6 and 0.8, our models have low bias but high variance."
   ]
  }
 ],
 "metadata": {
  "kernelspec": {
   "display_name": "Python 3",
   "language": "python",
   "name": "python3"
  },
  "language_info": {
   "codemirror_mode": {
    "name": "ipython",
    "version": 3
   },
   "file_extension": ".py",
   "mimetype": "text/x-python",
   "name": "python",
   "nbconvert_exporter": "python",
   "pygments_lexer": "ipython3",
   "version": "3.7.4"
  }
 },
 "nbformat": 4,
 "nbformat_minor": 2
}
